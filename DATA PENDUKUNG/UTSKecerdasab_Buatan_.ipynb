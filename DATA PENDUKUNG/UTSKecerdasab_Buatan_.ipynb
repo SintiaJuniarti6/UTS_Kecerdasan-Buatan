{
  "nbformat": 4,
  "nbformat_minor": 0,
  "metadata": {
    "colab": {
      "provenance": []
    },
    "kernelspec": {
      "name": "python3",
      "display_name": "Python 3"
    },
    "language_info": {
      "name": "python"
    }
  },
  "cells": [
    {
      "cell_type": "code",
      "source": [],
      "metadata": {
        "id": "-NB3NjuzMtLR"
      },
      "execution_count": null,
      "outputs": []
    },
    {
      "cell_type": "code",
      "execution_count": 1,
      "metadata": {
        "colab": {
          "base_uri": "https://localhost:8080/"
        },
        "id": "bwGw4zI3mdeC",
        "outputId": "fd4712ab-42d8-4474-cd49-2026eb0f98af"
      },
      "outputs": [
        {
          "output_type": "stream",
          "name": "stdout",
          "text": [
            "=== Sistem Pakar Diagnosa Hama Tanaman ===\n",
            "Apakah daun menguning? (ya/tidak): tidak\n",
            "Apakah terdapat bercak hitam? (ya/tidak): ya\n",
            "Apakah daun berlubang? (ya/tidak): tidak\n",
            "Apakah tanaman layu? (ya/tidak): ya\n",
            "Hama yang terdeteksi: Virus\n"
          ]
        }
      ],
      "source": [
        "# Sistem Pakar Diagnosa Hama Tanaman\n",
        "print(\"=== Sistem Pakar Diagnosa Hama Tanaman ===\")\n",
        "\n",
        "# Input gejala\n",
        "daun_menguning = input(\"Apakah daun menguning? (ya/tidak): \").lower() == \"ya\"\n",
        "bercak_hitam = input(\"Apakah terdapat bercak hitam? (ya/tidak): \").lower() == \"ya\"\n",
        "daun_berlubang = input(\"Apakah daun berlubang? (ya/tidak): \").lower() == \"ya\"\n",
        "tanaman_layu = input(\"Apakah tanaman layu? (ya/tidak): \").lower() == \"ya\"\n",
        "\n",
        "# Inferensi berdasarkan aturan\n",
        "if daun_menguning and bercak_hitam:\n",
        "    hama = \"Jamur\"\n",
        "elif daun_berlubang:\n",
        "    hama = \"Ulat\"\n",
        "elif tanaman_layu and daun_menguning:\n",
        "    hama = \"Bakteri\"\n",
        "elif tanaman_layu and bercak_hitam:\n",
        "    hama = \"Virus\"\n",
        "else:\n",
        "    hama = \"Tidak diketahui\"\n",
        "\n",
        "# Output\n",
        "print(f\"Hama yang terdeteksi: {hama}\")\n"
      ]
    }
  ]
}